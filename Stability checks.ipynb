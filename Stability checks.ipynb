{
 "cells": [
  {
   "cell_type": "code",
   "execution_count": 1,
   "metadata": {},
   "outputs": [],
   "source": [
    "import math\n",
    "import numpy as np\n",
    "import planet_sampler_pop as ps\n",
    "import pandas as pd"
   ]
  },
  {
   "cell_type": "markdown",
   "metadata": {},
   "source": [
    "## Importing the data"
   ]
  },
  {
   "cell_type": "code",
   "execution_count": 2,
   "metadata": {},
   "outputs": [],
   "source": [
    "weiss_data = pd.read_csv(\"weiss_tables.csv\")\n",
    "kam_planets = ps.PlanetSample(\"emile_testing_AG13_bright5_baseline.txt\", dataset = \"SAG\")\n",
    "life_planets = ps.PlanetSample(\"emile_testing_AG13_bright5_weiss.txt\", dataset = \"SAG\")"
   ]
  },
  {
   "cell_type": "markdown",
   "metadata": {},
   "source": [
    "## Defining some functions"
   ]
  },
  {
   "cell_type": "code",
   "execution_count": 3,
   "metadata": {},
   "outputs": [],
   "source": [
    "def stability_criterion(M_star, a_in, a_out, m_in, m_out,  e_in, e_out, threshold):\n",
    "    m_in = m_in * 5.972E24\n",
    "    m_out = m_out * 5.972E24 #getting the planet masses in kg\n",
    "    M_star = M_star * 1.989E30 # getting the star mass in kg\n",
    "    hill_radius = (a_in+a_out)/2 * ((m_in + m_out)/(3*M_star))**(1/3)\n",
    "    delta = (a_out*(1-e_out) - a_in*(1+e_in))/hill_radius\n",
    "    return delta > threshold"
   ]
  },
  {
   "cell_type": "markdown",
   "metadata": {},
   "source": [
    "## Getting the results for the original sample of Kam&Quanz"
   ]
  },
  {
   "cell_type": "code",
   "execution_count": 4,
   "metadata": {},
   "outputs": [
    {
     "name": "stdout",
     "output_type": "stream",
     "text": [
      "They were 2451 pairs that passed the test, which represent 73 % of the total number of pairs (3318)\n",
      "They were 731 syst that passed the test, which represent 56 % of the total number of syst (1287)\n"
     ]
    }
   ],
   "source": [
    "star_sample = np.arange(0,326,1)\n",
    "count_true = 0\n",
    "count_false = 0\n",
    "count_true_syst, count_false_syst = 0,0\n",
    "for n in np.unique(life_planets.nMC):\n",
    "    for star in star_sample:\n",
    "        temp = 0\n",
    "        syst = np.logical_and(kam_planets.snumber == star, kam_planets.nMC == n)\n",
    "        if(np.count_nonzero(syst) > 1):\n",
    "            a_planets = kam_planets.a[syst]\n",
    "            e_planets = kam_planets.ecc[syst]\n",
    "            M_star = kam_planets.Ms[syst]\n",
    "            mass_planets = kam_planets.Mp[syst]\n",
    "            a_planets = a_planets[np.argsort(a_planets)]\n",
    "            e_planets = e_planets[np.argsort(a_planets)]\n",
    "            mass_planets = mass_planets[np.argsort(a_planets)]\n",
    "            for i in range(len(a_planets) -1 ):#We loop over all the planet pairs\n",
    "                if(stability_criterion(M_star[0], a_planets[i], a_planets[i+1], mass_planets[i], mass_planets[i+1], e_planets[i], e_planets[i+1], 8)):\n",
    "                    count_true += 1\n",
    "                else:#If at least one pair is unstable\n",
    "                    temp = 1 #We discard the system\n",
    "                    count_false += 1\n",
    "            if(temp == 0):\n",
    "                count_true_syst +=1 \n",
    "            elif(temp == 1):\n",
    "                count_false_syst +=1\n",
    "                \n",
    "fraction_true = math.floor(count_true /(count_true + count_false)*100)\n",
    "print(\"They were \" + str(count_true) + \" pairs that passed the test, which represent \" + str(fraction_true) + \" % of the total number of pairs (\" + str(count_true + count_false) + \")\")\n",
    "fraction_true_syst = math.floor(count_true_syst /(count_true_syst + count_false_syst)*100)\n",
    "print(\"They were \" + str(count_true_syst) + \" syst that passed the test, which represent \" + str(fraction_true_syst) + \" % of the total number of syst (\" + str(count_true_syst + count_false_syst) + \")\")"
   ]
  },
  {
   "cell_type": "markdown",
   "metadata": {},
   "source": [
    "## Getting the results for my update version"
   ]
  },
  {
   "cell_type": "code",
   "execution_count": 5,
   "metadata": {},
   "outputs": [
    {
     "name": "stdout",
     "output_type": "stream",
     "text": [
      "They were 2646 pairs that passed the test, which represent 100 % of the total number of pairs (2646)\n",
      "They were 1177 syst that passed the test, which represent 100 % of the total number of syst (1177)\n"
     ]
    }
   ],
   "source": [
    "star_sample = np.arange(0,326,1)\n",
    "count_true = 0\n",
    "count_true_syst, count_false_syst = 0,0\n",
    "count_false = 0\n",
    "for n in np.unique(life_planets.nMC):\n",
    "    for star in star_sample:# Loop on each system\n",
    "        temp = 0\n",
    "        syst = np.logical_and(life_planets.snumber == star, life_planets.nMC == n)\n",
    "        if(np.count_nonzero(syst) > 1):#If there is more than 1 planet in the system\n",
    "            a_planets = life_planets.a[syst]\n",
    "            e_planets = life_planets.ecc[syst]\n",
    "            M_star = life_planets.Ms[syst]\n",
    "            mass_planets = life_planets.Mp[syst]\n",
    "            a_planets = a_planets[np.argsort(a_planets)]\n",
    "            e_planets = e_planets[np.argsort(a_planets)]\n",
    "            mass_planets = mass_planets[np.argsort(a_planets)]\n",
    "            for i in range(len(a_planets) -1 ):#We loop over all the planet pairs\n",
    "                if(stability_criterion(M_star[0], a_planets[i], a_planets[i+1], mass_planets[i], mass_planets[i+1], e_planets[i], e_planets[i+1], 8)):\n",
    "                    count_true += 1\n",
    "                else:#If at least one pair is unstable\n",
    "                    temp = 1 #We discard the system\n",
    "                    count_false += 1\n",
    "            if(temp == 0):\n",
    "                count_true_syst +=1 \n",
    "            elif(temp == 1):\n",
    "                count_false_syst +=1\n",
    "            \n",
    "fraction_true = math.floor(count_true /(count_true + count_false)*100)\n",
    "print(\"They were \" + str(count_true) + \" pairs that passed the test, which represent \" + str(fraction_true) + \" % of the total number of pairs (\" + str(count_true + count_false) + \")\")\n",
    "fraction_true_syst = math.floor(count_true_syst /(count_true_syst + count_false_syst)*100)\n",
    "print(\"They were \" + str(count_true_syst) + \" syst that passed the test, which represent \" + str(fraction_true_syst) + \" % of the total number of syst (\" + str(count_true_syst + count_false_syst) + \")\")"
   ]
  },
  {
   "cell_type": "code",
   "execution_count": 6,
   "metadata": {},
   "outputs": [
    {
     "name": "stdout",
     "output_type": "stream",
     "text": [
      "[ 3.38363  7.02912  8.51359 12.95181]\n",
      "[0.04875 0.07937 0.09019 0.1193 ]\n",
      "[11.96866 27.67776 44.79097]\n",
      "[0.11318 0.19792 0.27281]\n",
      "[119.90437 214.71682 435.79049 766.69374]\n",
      "[0.52597 0.77562 1.24334 1.81198]\n",
      "[12.62148 20.18522]\n",
      "[0.11726 0.16036]\n",
      "[ 4.38026  7.44943 17.77734]\n",
      "[0.05791 0.08251 0.14734]\n"
     ]
    }
   ],
   "source": [
    "st = 325\n",
    "for i in range(5):\n",
    "    if(np.count_nonzero(np.logical_and(life_planets.nMC == i, life_planets.snumber == st)) > 1):\n",
    "        temp = np.logical_and(life_planets.nMC == i, life_planets.snumber == st)\n",
    "        print(life_planets.period[temp])\n",
    "        print(life_planets.a[temp])\n"
   ]
  },
  {
   "cell_type": "markdown",
   "metadata": {},
   "source": [
    "## Getting the results for Weiss et al dataset"
   ]
  },
  {
   "cell_type": "code",
   "execution_count": 8,
   "metadata": {},
   "outputs": [
    {
     "name": "stdout",
     "output_type": "stream",
     "text": [
      "They were 543 pairs that passed the test, which represent 98 % of the total number of pairs (554)\n"
     ]
    }
   ],
   "source": [
    "count_true = 0\n",
    "count_false = 0\n",
    "for star in weiss_data.host_star.unique():\n",
    "    syst = weiss_data[weiss_data.host_star == star]\n",
    "    syst_order = np.argsort(np.array(syst.planet_period))\n",
    "    mutual_hills = np.array(syst.Delta)[syst_order]\n",
    "    for i in range(len(syst)- 1):\n",
    "        if(mutual_hills[i+1] > 8):\n",
    "            count_true += 1\n",
    "        else:\n",
    "            count_false += 1\n",
    "fraction_true = math.floor(count_true /(count_true + count_false)*100)\n",
    "print(\"They were \" + str(count_true) + \" pairs that passed the test, which represent \" + str(fraction_true) + \" % of the total number of pairs (\" + str(count_true + count_false) + \")\")"
   ]
  },
  {
   "cell_type": "code",
   "execution_count": 9,
   "metadata": {},
   "outputs": [],
   "source": [
    "def a(Ms, Porb):\n",
    "\t\t\"\"\"\n",
    "\t\tComputes planet semi-major axis (in astronomical units)\n",
    "\t\t\"\"\"\n",
    "\t\t\n",
    "\t\t# Define constants\n",
    "\t\tG = 6.67408E-11\n",
    "\t\tMsun = 1.989E+30\n",
    "\t\tau = 149597870700.\n",
    "\t\t\n",
    "\t\t# Return planet semi-major axis\n",
    "\t\treturn ((G*Ms*Msun*(Porb*86400.)**2.)/(4.*np.pi**2.))**(1./3.)/au"
   ]
  },
  {
   "cell_type": "code",
   "execution_count": null,
   "metadata": {},
   "outputs": [],
   "source": []
  }
 ],
 "metadata": {
  "celltoolbar": "Raw Cell Format",
  "kernelspec": {
   "display_name": "Python 3",
   "language": "python",
   "name": "python3"
  },
  "language_info": {
   "codemirror_mode": {
    "name": "ipython",
    "version": 3
   },
   "file_extension": ".py",
   "mimetype": "text/x-python",
   "name": "python",
   "nbconvert_exporter": "python",
   "pygments_lexer": "ipython3",
   "version": "3.6.8"
  }
 },
 "nbformat": 4,
 "nbformat_minor": 2
}
