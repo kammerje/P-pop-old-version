{
 "cells": [
  {
   "cell_type": "code",
   "execution_count": 1,
   "metadata": {},
   "outputs": [],
   "source": [
    "import numpy as np\n",
    "from matplotlib import pyplot as plt\n",
    "import math\n",
    "import planet_sampler_pop as ps\n",
    "import pandas as pd\n",
    "from scipy import stats  \n",
    "import scipy.optimize as opt\n",
    "%matplotlib inline"
   ]
  },
  {
   "cell_type": "code",
   "execution_count": 2,
   "metadata": {},
   "outputs": [],
   "source": [
    "weiss_dat = pd.read_csv(\"weiss_tables.csv\")"
   ]
  },
  {
   "cell_type": "code",
   "execution_count": 20,
   "metadata": {},
   "outputs": [],
   "source": [
    "def snr_weiss(R_p, R_star, M_star, period, CDPP_6h):\n",
    "    \"\"\"\n",
    "    snr_weiss : Computes the expected signal to noise ratio of a planet with size R_p and orbital period\n",
    "    period orbiting a star with bulk density rho_star and radius R_star and a 6hr combined differential photometric precision \n",
    "    CDPP_6hr. This definition is taken from Weiss et al. 2018 https://iopscience.iop.org/article/10.3847/1538-3881/aa9ff6\n",
    "    #####\n",
    "    Parameters : \n",
    "    R_p : planet radius in Earth radius\n",
    "    R_star : host star radius in solar radius\n",
    "    M_star: host star mass in stellar mass\n",
    "    period : period in days\n",
    "    CDPP_6h : combined differential photometric precision over 6hr\n",
    "    \n",
    "    returns the value of SN ratio\n",
    "    \"\"\"\n",
    "    R_sun = 695700\n",
    "    R_earth = 6378\n",
    "    M_sun = 1.989 * 10**30\n",
    "    R_p_km = R_p * R_earth\n",
    "    R_star_km = R_sun * R_star\n",
    "    M_star_kg = M_star * M_sun\n",
    "    rho_star = M_star/(R_star**3)\n",
    "    depth = 1000000*(R_p_km / R_star_km)**2\n",
    "    T = 13 * (period/365.24)**(1/3) * (rho_star)**(-1/3) # Parameter T in hours\n",
    "    #print(\"period : \" + str(period))\n",
    "    #print(\"radius : \" + str(R_p))\n",
    "    #print(\"duration : \" + str(T))\n",
    "    #print(\"depth : \" + str(depth))\n",
    "    return  ((depth * math.sqrt(3.5 *365.24/ (period ))) / (CDPP_6h * math.sqrt(6/T)))\n",
    "\n",
    "\n",
    "def swapping_criterion(R_p, R_star, M_star, period, CDPP_6h, snr_threshold = 10):\n",
    "    return (snr_weiss(R_p, R_star, M_star, period, CDPP_6h) >= snr_threshold)\n",
    "    \n",
    "def gaussian_fit(x, mu, sigma):\n",
    "    return 1/math.sqrt(2*math.pi*sigma**2) * np.exp(-(x - mu)**2/(2*sigma**2))\n",
    "def skew_gaus(x, mean, skew, sigma):\n",
    "    return stats.skewnorm.pdf(x, skew, mean, sigma)"
   ]
  },
  {
   "cell_type": "code",
   "execution_count": 22,
   "metadata": {
    "scrolled": true
   },
   "outputs": [
    {
     "name": "stdout",
     "output_type": "stream",
     "text": [
      "491 554\n",
      "491 299\n"
     ]
    }
   ],
   "source": [
    "count = 0\n",
    "tot_count = 0\n",
    "two = 0\n",
    "three = 0\n",
    "for star in weiss_dat['host_star'].unique():\n",
    "    temp_syst = weiss_dat[weiss_dat['host_star'] == star]\n",
    "    temp_syst = temp_syst.iloc[temp_syst['planet_period'].argsort()]\n",
    "    \n",
    "    for i in range(len(temp_syst) -1 ):\n",
    "        tot_count += 1\n",
    "        #print(temp_syst['KOIS'])\n",
    "        if(swapping_criterion(min(temp_syst['planet_radius'].iloc[i], temp_syst['planet_radius'].iloc[i+1]), temp_syst['star_radius'].iloc[i], temp_syst['star_mass'].iloc[i], temp_syst['planet_period'].iloc[i+1], temp_syst['CDPP_6h'].iloc[i], 10)):\n",
    "            count +=1\n",
    "            if(len(temp_syst) >=2):\n",
    "                two +=1\n",
    "            if(len(temp_syst) >= 3):\n",
    "                three +=1 \n",
    "        else:\n",
    "            qqq = snr_weiss(min(temp_syst['planet_radius'].iloc[i], temp_syst['planet_radius'].iloc[i+1]), temp_syst['star_radius'].iloc[i], temp_syst['star_mass'].iloc[i], temp_syst['planet_period'].iloc[i+1], temp_syst['CDPP_6h'].iloc[i])\n",
    "print(count, tot_count)\n",
    "print(two, three)"
   ]
  },
  {
   "cell_type": "code",
   "execution_count": 176,
   "metadata": {},
   "outputs": [
    {
     "data": {
      "text/plain": [
       "63"
      ]
     },
     "execution_count": 176,
     "metadata": {},
     "output_type": "execute_result"
    }
   ],
   "source": [
    "554-491"
   ]
  },
  {
   "cell_type": "code",
   "execution_count": 101,
   "metadata": {},
   "outputs": [
    {
     "ename": "IndexingError",
     "evalue": "Unalignable boolean Series provided as indexer (index of the boolean Series and of the indexed object do not match).",
     "output_type": "error",
     "traceback": [
      "\u001b[0;31m---------------------------------------------------------------------------\u001b[0m",
      "\u001b[0;31mIndexingError\u001b[0m                             Traceback (most recent call last)",
      "\u001b[0;32m<ipython-input-101-fe9b3216d56d>\u001b[0m in \u001b[0;36m<module>\u001b[0;34m\u001b[0m\n\u001b[0;32m----> 1\u001b[0;31m \u001b[0mweiss_dat\u001b[0m\u001b[0;34m[\u001b[0m\u001b[0;34m'KOIP'\u001b[0m\u001b[0;34m]\u001b[0m\u001b[0;34m[\u001b[0m\u001b[0mweiss_dat\u001b[0m\u001b[0;34m[\u001b[0m\u001b[0;34m'KOIP'\u001b[0m\u001b[0;34m]\u001b[0m\u001b[0;34m[\u001b[0m\u001b[0;34m-\u001b[0m\u001b[0;36m6\u001b[0m\u001b[0;34m:\u001b[0m\u001b[0;34m]\u001b[0m \u001b[0;34m==\u001b[0m \u001b[0;34m'205.02'\u001b[0m\u001b[0;34m]\u001b[0m\u001b[0;34m\u001b[0m\u001b[0;34m\u001b[0m\u001b[0m\n\u001b[0m",
      "\u001b[0;32m~/.local/lib/python3.6/site-packages/pandas/core/series.py\u001b[0m in \u001b[0;36m__getitem__\u001b[0;34m(self, key)\u001b[0m\n\u001b[1;32m   1106\u001b[0m \u001b[0;34m\u001b[0m\u001b[0m\n\u001b[1;32m   1107\u001b[0m         \u001b[0;32mif\u001b[0m \u001b[0mcom\u001b[0m\u001b[0;34m.\u001b[0m\u001b[0mis_bool_indexer\u001b[0m\u001b[0;34m(\u001b[0m\u001b[0mkey\u001b[0m\u001b[0;34m)\u001b[0m\u001b[0;34m:\u001b[0m\u001b[0;34m\u001b[0m\u001b[0;34m\u001b[0m\u001b[0m\n\u001b[0;32m-> 1108\u001b[0;31m             \u001b[0mkey\u001b[0m \u001b[0;34m=\u001b[0m \u001b[0mcheck_bool_indexer\u001b[0m\u001b[0;34m(\u001b[0m\u001b[0mself\u001b[0m\u001b[0;34m.\u001b[0m\u001b[0mindex\u001b[0m\u001b[0;34m,\u001b[0m \u001b[0mkey\u001b[0m\u001b[0;34m)\u001b[0m\u001b[0;34m\u001b[0m\u001b[0;34m\u001b[0m\u001b[0m\n\u001b[0m\u001b[1;32m   1109\u001b[0m \u001b[0;34m\u001b[0m\u001b[0m\n\u001b[1;32m   1110\u001b[0m         \u001b[0;32mreturn\u001b[0m \u001b[0mself\u001b[0m\u001b[0;34m.\u001b[0m\u001b[0m_get_with\u001b[0m\u001b[0;34m(\u001b[0m\u001b[0mkey\u001b[0m\u001b[0;34m)\u001b[0m\u001b[0;34m\u001b[0m\u001b[0;34m\u001b[0m\u001b[0m\n",
      "\u001b[0;32m~/.local/lib/python3.6/site-packages/pandas/core/indexing.py\u001b[0m in \u001b[0;36mcheck_bool_indexer\u001b[0;34m(index, key)\u001b[0m\n\u001b[1;32m   2409\u001b[0m         \u001b[0;32mif\u001b[0m \u001b[0mmask\u001b[0m\u001b[0;34m.\u001b[0m\u001b[0many\u001b[0m\u001b[0;34m(\u001b[0m\u001b[0;34m)\u001b[0m\u001b[0;34m:\u001b[0m\u001b[0;34m\u001b[0m\u001b[0;34m\u001b[0m\u001b[0m\n\u001b[1;32m   2410\u001b[0m             raise IndexingError(\n\u001b[0;32m-> 2411\u001b[0;31m                 \u001b[0;34m\"Unalignable boolean Series provided as \"\u001b[0m\u001b[0;34m\u001b[0m\u001b[0;34m\u001b[0m\u001b[0m\n\u001b[0m\u001b[1;32m   2412\u001b[0m                 \u001b[0;34m\"indexer (index of the boolean Series and of \"\u001b[0m\u001b[0;34m\u001b[0m\u001b[0;34m\u001b[0m\u001b[0m\n\u001b[1;32m   2413\u001b[0m                 \u001b[0;34m\"the indexed object do not match).\"\u001b[0m\u001b[0;34m\u001b[0m\u001b[0;34m\u001b[0m\u001b[0m\n",
      "\u001b[0;31mIndexingError\u001b[0m: Unalignable boolean Series provided as indexer (index of the boolean Series and of the indexed object do not match)."
     ]
    }
   ],
   "source": [
    "weiss_dat['KOIP'][weiss_dat['KOIP'][-6:] == '205.02']"
   ]
  },
  {
   "cell_type": "code",
   "execution_count": 141,
   "metadata": {},
   "outputs": [
    {
     "data": {
      "text/html": [
       "<div>\n",
       "<style scoped>\n",
       "    .dataframe tbody tr th:only-of-type {\n",
       "        vertical-align: middle;\n",
       "    }\n",
       "\n",
       "    .dataframe tbody tr th {\n",
       "        vertical-align: top;\n",
       "    }\n",
       "\n",
       "    .dataframe thead th {\n",
       "        text-align: right;\n",
       "    }\n",
       "</style>\n",
       "<table border=\"1\" class=\"dataframe\">\n",
       "  <thead>\n",
       "    <tr style=\"text-align: right;\">\n",
       "      <th></th>\n",
       "      <th>Unnamed: 0</th>\n",
       "      <th>KOIS</th>\n",
       "      <th>host_star</th>\n",
       "      <th>KOIP</th>\n",
       "      <th>Kepname</th>\n",
       "      <th>star_mass</th>\n",
       "      <th>star_radius</th>\n",
       "      <th>CDPP_6h</th>\n",
       "      <th>b</th>\n",
       "      <th>planet_period</th>\n",
       "      <th>planet_radius</th>\n",
       "      <th>e_Rp</th>\n",
       "      <th>T</th>\n",
       "      <th>RpAvg</th>\n",
       "      <th>Prat</th>\n",
       "      <th>Delta</th>\n",
       "    </tr>\n",
       "  </thead>\n",
       "  <tbody>\n",
       "  </tbody>\n",
       "</table>\n",
       "</div>"
      ],
      "text/plain": [
       "Empty DataFrame\n",
       "Columns: [Unnamed: 0, KOIS, host_star, KOIP, Kepname, star_mass, star_radius, CDPP_6h, b, planet_period, planet_radius, e_Rp, T, RpAvg, Prat, Delta]\n",
       "Index: []"
      ]
     },
     "execution_count": 141,
     "metadata": {},
     "output_type": "execute_result"
    }
   ],
   "source": [
    "weiss_dat[weiss_dat['KOIS'] == 'K00488']"
   ]
  },
  {
   "cell_type": "code",
   "execution_count": null,
   "metadata": {},
   "outputs": [],
   "source": []
  }
 ],
 "metadata": {
  "kernelspec": {
   "display_name": "Python 3",
   "language": "python",
   "name": "python3"
  },
  "language_info": {
   "codemirror_mode": {
    "name": "ipython",
    "version": 3
   },
   "file_extension": ".py",
   "mimetype": "text/x-python",
   "name": "python",
   "nbconvert_exporter": "python",
   "pygments_lexer": "ipython3",
   "version": "3.6.9"
  }
 },
 "nbformat": 4,
 "nbformat_minor": 2
}
