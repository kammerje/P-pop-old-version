{
 "cells": [
  {
   "cell_type": "code",
   "execution_count": 1,
   "metadata": {},
   "outputs": [],
   "source": [
    "import numpy as np\n",
    "from matplotlib import pyplot as plt\n",
    "import math\n",
    "import planet_sampler_pop as ps\n",
    "import pandas as pd\n",
    "from scipy import stats  \n",
    "import scipy.optimize as opt\n",
    "import csv\n",
    "%matplotlib inline"
   ]
  },
  {
   "cell_type": "code",
   "execution_count": 2,
   "metadata": {},
   "outputs": [
    {
     "name": "stdout",
     "output_type": "stream",
     "text": [
      "909\n"
     ]
    }
   ],
   "source": [
    "KOIS = []\n",
    "host_star = []\n",
    "KOIP = []\n",
    "Kepname = []\n",
    "planet_radius = []\n",
    "planet_period = []\n",
    "star_mass = []\n",
    "star_radius = []\n",
    "CDPP_6h = []\n",
    "b = []\n",
    "e_Rp = []\n",
    "T = []\n",
    "RpAvg = []\n",
    "Prat = []\n",
    "Delta = []\n",
    "with open(\"weiss_tables.txt\", \"r\") as f:\n",
    "    lines = f.readlines()\n",
    "    print(len(lines))\n",
    "    for line in lines:\n",
    "        KOIS += [line[0:6]]\n",
    "        host_star += [line[7:15]]\n",
    "        KOIP += [line[16:25]]\n",
    "        Kepname += [line[26:39]]\n",
    "        star_mass += [float(line[40:45])]\n",
    "        star_radius += [float(line[47:52])]\n",
    "        CDPP_6h += [float(line[53:60])]\n",
    "        b += [float(line[62:67])]\n",
    "        planet_period += [float(line[69:82])]\n",
    "        planet_radius += [float(line[84:98])]\n",
    "        e_Rp += [float(line[100:114])]\n",
    "        T += [float(line[115:129])]\n",
    "        RpAvg += [float(line[131:145])]\n",
    "        Prat += [float(line[146:160])]\n",
    "        Delta += [float(line[161:175])]\n",
    "        \n",
    "        \n",
    "host_star = np.array(host_star)\n",
    "planet_radius = np.array(planet_radius)\n",
    "planet_period = np.array(planet_period)\n",
    "star_mass = np.array(star_mass)\n",
    "star_radius = np.array(star_radius)\n",
    "CDPP_6h = np.array(CDPP_6h)    \n",
    "KOIS = np.array(KOIS)\n",
    "KOIP = np.array(KOIP)\n",
    "Kepname = np.array(Kepname)\n",
    "b = np.array(b)\n",
    "e_Rp = np.array(e_Rp)\n",
    "T = np.array(T)\n",
    "RpAvg = np.array(RpAvg)\n",
    "Prat = np.array(Prat)\n",
    "Delta = np.array(Delta)"
   ]
  },
  {
   "cell_type": "code",
   "execution_count": 7,
   "metadata": {},
   "outputs": [
    {
     "data": {
      "text/plain": [
       "934.09418462"
      ]
     },
     "execution_count": 7,
     "metadata": {},
     "output_type": "execute_result"
    }
   ],
   "source": [
    "max(planet_period)"
   ]
  },
  {
   "cell_type": "code",
   "execution_count": 3,
   "metadata": {},
   "outputs": [
    {
     "ename": "SyntaxError",
     "evalue": "unexpected EOF while parsing (<ipython-input-3-26126c94b9f0>, line 2)",
     "output_type": "error",
     "traceback": [
      "\u001b[0;36m  File \u001b[0;32m\"<ipython-input-3-26126c94b9f0>\"\u001b[0;36m, line \u001b[0;32m2\u001b[0m\n\u001b[0;31m    \u001b[0m\n\u001b[0m    ^\u001b[0m\n\u001b[0;31mSyntaxError\u001b[0m\u001b[0;31m:\u001b[0m unexpected EOF while parsing\n"
     ]
    }
   ],
   "source": [
    "with open('weiss_tables.csv') as csv_f:\n",
    "    "
   ]
  },
  {
   "cell_type": "code",
   "execution_count": 4,
   "metadata": {},
   "outputs": [],
   "source": [
    "test = pd.DataFrame(np.transpose([KOIS, host_star, KOIP, Kepname, star_mass, star_radius, CDPP_6h, b, planet_period, planet_radius, e_Rp, T, RpAvg, Prat, Delta]), columns = [\"KOIS\", \"host_star\", \"KOIP\", \"Kepname\", \"star_mass\", \"star_radius\", \"CDPP_6h\", \"b\", \"planet_period\", \"planet_radius\", \"e_Rp\", \"T\", \"RpAvg\", \"Prat\", \"Delta\"])"
   ]
  },
  {
   "cell_type": "code",
   "execution_count": 5,
   "metadata": {},
   "outputs": [],
   "source": [
    "test.to_csv(\"weiss_tables.csv\")"
   ]
  },
  {
   "cell_type": "code",
   "execution_count": 3,
   "metadata": {},
   "outputs": [
    {
     "name": "stdout",
     "output_type": "stream",
     "text": [
      "0\n",
      "1\n",
      "2\n",
      "3\n",
      "4\n"
     ]
    }
   ],
   "source": [
    "try:\n",
    "    a\n",
    "except NameError:\n",
    "    print(\"The var is not defined\")\n",
    "for i in range(5):\n",
    "    print(i)"
   ]
  },
  {
   "cell_type": "code",
   "execution_count": 2,
   "metadata": {},
   "outputs": [],
   "source": [
    "a = 2"
   ]
  },
  {
   "cell_type": "code",
   "execution_count": null,
   "metadata": {},
   "outputs": [],
   "source": []
  }
 ],
 "metadata": {
  "kernelspec": {
   "display_name": "Python 3",
   "language": "python",
   "name": "python3"
  },
  "language_info": {
   "codemirror_mode": {
    "name": "ipython",
    "version": 3
   },
   "file_extension": ".py",
   "mimetype": "text/x-python",
   "name": "python",
   "nbconvert_exporter": "python",
   "pygments_lexer": "ipython3",
   "version": "3.6.9"
  }
 },
 "nbformat": 4,
 "nbformat_minor": 2
}
